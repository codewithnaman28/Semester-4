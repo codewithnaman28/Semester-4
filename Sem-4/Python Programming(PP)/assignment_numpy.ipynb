{
 "cells": [
  {
   "attachments": {},
   "cell_type": "markdown",
   "metadata": {},
   "source": [
    "# Lab Assignment 8 # \n",
    "\n",
    "- Numpy stands for numerical python, it is an open soruce python array processing library used for data analysis and scientific computing with python.\n",
    "- Numpy arrays are faster and more compact than python lists.\n",
    "- an array consumes less memory and is convinient to use \n",
    "- numpy array are multidimensional while lists are one dimensional"
   ]
  },
  {
   "cell_type": "code",
   "execution_count": 4,
   "metadata": {},
   "outputs": [
    {
     "name": "stdout",
     "output_type": "stream",
     "text": [
      "ond-D array [1 2 3 4 5]\n",
      "<class 'numpy.ndarray'>\n"
     ]
    }
   ],
   "source": [
    "import numpy as np \n",
    "\n",
    "arr = np.array([1,2,3,4,5])\n",
    "print (\"ond-D array\", arr)\n",
    "print(type(arr))"
   ]
  },
  {
   "attachments": {},
   "cell_type": "markdown",
   "metadata": {},
   "source": [
    "## Dimension ##\n",
    "The dimension is being calculated by the 'ndim' method on the basis of the no. of square brackets"
   ]
  },
  {
   "cell_type": "code",
   "execution_count": 7,
   "metadata": {},
   "outputs": [
    {
     "name": "stdout",
     "output_type": "stream",
     "text": [
      "one-D array [[1 2 3]\n",
      " [4 5 6]]\n",
      "<class 'numpy.ndarray'>\n",
      "Dimension: 2\n"
     ]
    }
   ],
   "source": [
    "import numpy as np\n",
    "\n",
    "arr2 = np.array([[1,2,3],[4,5,6]])\n",
    "print(\"one-D array\", arr2)\n",
    "print(type(arr2))\n",
    "print(\"Dimension:\",arr2.ndim)"
   ]
  },
  {
   "attachments": {},
   "cell_type": "markdown",
   "metadata": {},
   "source": [
    "## Data Type ##\n",
    "The data type used in the array is being reflected using '.dtype' command"
   ]
  },
  {
   "cell_type": "code",
   "execution_count": 10,
   "metadata": {},
   "outputs": [
    {
     "name": "stdout",
     "output_type": "stream",
     "text": [
      "[[1 2 3]]\n",
      "<class 'numpy.ndarray'>\n",
      "int64\n"
     ]
    }
   ],
   "source": [
    "import numpy as np\n",
    "\n",
    "arr3 = np.array([(1,2,3)])\n",
    "print(arr3)\n",
    "print(type(arr3))\n",
    "print(arr3.dtype)"
   ]
  },
  {
   "cell_type": "code",
   "execution_count": 11,
   "metadata": {},
   "outputs": [
    {
     "name": "stdout",
     "output_type": "stream",
     "text": [
      "[[1.12 2.23 3.6 ]]\n",
      "<class 'numpy.ndarray'>\n",
      "float64\n"
     ]
    }
   ],
   "source": [
    "import numpy as np\n",
    "\n",
    "arr3 = np.array([(1.12, 2.23, 3.6)])\n",
    "print(arr3)\n",
    "print(type(arr3))\n",
    "print(arr3.dtype)\n"
   ]
  },
  {
   "attachments": {},
   "cell_type": "markdown",
   "metadata": {},
   "source": [
    "## Converting Data Type ##\n",
    "Here we are converting the data types using '.astype' "
   ]
  },
  {
   "cell_type": "code",
   "execution_count": 12,
   "metadata": {},
   "outputs": [
    {
     "name": "stdout",
     "output_type": "stream",
     "text": [
      "Modified Array Data:  [[1 2 3]]\n",
      "<class 'numpy.ndarray'>\n",
      "int64\n",
      "[[1.12 2.23 3.6 ]]\n",
      "<class 'numpy.ndarray'>\n",
      "float64\n"
     ]
    }
   ],
   "source": [
    "import numpy as np\n",
    "\n",
    "arr3 = np.array([(1.12, 2.23, 3.6)])\n",
    "ar = arr3.astype(int)\n",
    "print(\"Modified Array Data: \", ar)\n",
    "print(type(ar))\n",
    "print(ar.dtype)\n",
    "print(arr3)\n",
    "print(type(arr3))\n",
    "print(arr3.dtype)\n"
   ]
  },
  {
   "attachments": {},
   "cell_type": "markdown",
   "metadata": {},
   "source": [
    "## Displaying the data type of String ##\n",
    "In this we are displaying the data type of string which shows the max length of the string and is displayed as '<U'"
   ]
  },
  {
   "cell_type": "code",
   "execution_count": 15,
   "metadata": {},
   "outputs": [
    {
     "name": "stdout",
     "output_type": "stream",
     "text": [
      "['Naman' 'Akshat' 'Rohit']\n",
      "<class 'numpy.ndarray'>\n",
      "<U6\n"
     ]
    }
   ],
   "source": [
    "import numpy as np\n",
    "\n",
    "arr4 = np.array(['Naman', 'Akshat', 'Rohit'])\n",
    "print(arr4)\n",
    "print(type(arr4))\n",
    "print(arr4.dtype)"
   ]
  },
  {
   "attachments": {},
   "cell_type": "markdown",
   "metadata": {},
   "source": [
    "## Problem Statement ##\n",
    "- The shape of an array is the number of elements in each dimension.\n",
    "- NumPy arrays have an attribute called shape hat returns a tuple with each index having the number of correspoinding elements."
   ]
  },
  {
   "cell_type": "code",
   "execution_count": 18,
   "metadata": {},
   "outputs": [
    {
     "name": "stdout",
     "output_type": "stream",
     "text": [
      "(2, 4)\n",
      "[[[[[1 2 3 4]]]]]\n",
      "Shape of Array:  (1, 1, 1, 1, 4)\n"
     ]
    }
   ],
   "source": [
    "import numpy as np\n",
    "\n",
    "array = np.array([[1,2,3,4],[5,6,7,8]])\n",
    "print(array.shape)\n",
    "array = np.array([1,2,3,4], ndmin=5)\n",
    "print(array)\n",
    "print('Shape of Array: ', array.shape)"
   ]
  },
  {
   "attachments": {},
   "cell_type": "markdown",
   "metadata": {},
   "source": [
    "## Reshape ##\n",
    "- Reshape is when you change the number of rows and columns which gives a new view to an object.\n"
   ]
  },
  {
   "cell_type": "code",
   "execution_count": 21,
   "metadata": {},
   "outputs": [
    {
     "name": "stdout",
     "output_type": "stream",
     "text": [
      "[[1 2 3]\n",
      " [4 5 6]]\n",
      "(2, 3)\n",
      "[[1 2]\n",
      " [3 4]\n",
      " [5 6]]\n"
     ]
    }
   ],
   "source": [
    "import numpy as np\n",
    "\n",
    "a = np.array([[1,2,3],[4,5,6]])\n",
    "print(a)\n",
    "print(a.shape)\n",
    "a = a.reshape(3,2)\n",
    "print(a)"
   ]
  },
  {
   "cell_type": "code",
   "execution_count": 22,
   "metadata": {},
   "outputs": [
    {
     "name": "stdout",
     "output_type": "stream",
     "text": [
      "[[1 2 3 4 5 6]]\n",
      "[[1 2 3]\n",
      " [4 5 6]]\n"
     ]
    }
   ],
   "source": [
    "import numpy as np\n",
    "a = np.array([[1,2,3,4,5,6]])\n",
    "print(a)\n",
    "a = a.reshape(2,3)\n",
    "print(a)"
   ]
  },
  {
   "attachments": {},
   "cell_type": "markdown",
   "metadata": {},
   "source": [
    "## Basic Operations On Array ##\n",
    "- arange is an array-valued version of the built-in python range function "
   ]
  },
  {
   "cell_type": "code",
   "execution_count": 35,
   "metadata": {},
   "outputs": [
    {
     "name": "stdout",
     "output_type": "stream",
     "text": [
      "[0 1 2 3 4 5 6 7 8 9]\n",
      "[1 3 5 7 9]\n",
      "[0.  1.2 2.4 3.6 4.8 6. ]\n"
     ]
    }
   ],
   "source": [
    "import numpy as np\n",
    "a = np.arange(10)\n",
    "print(a)\n",
    "b = np.arange(1,10,2)\n",
    "print(b)\n",
    "a = np.linspace(0,6,6)\n",
    "print(a)"
   ]
  },
  {
   "cell_type": "code",
   "execution_count": 41,
   "metadata": {},
   "outputs": [
    {
     "name": "stdout",
     "output_type": "stream",
     "text": [
      "x+y: [[ 9 11 13]\n",
      " [15 17 19]]\n",
      "\n",
      "add: [[ 9 11 13]\n",
      " [15 17 19]]\n",
      "\n",
      "subtract: [[7 7 7]\n",
      " [7 7 7]]\n",
      "\n",
      "sum: 63\n",
      "\n",
      "sum axis-0: [19 21 23]\n",
      "\n",
      "sum axis-1: [27 36]\n"
     ]
    }
   ],
   "source": [
    "import numpy as np\n",
    "\n",
    "x = np.array([(8,9,10),(11,12,13)])\n",
    "y = np.array([(1,2,3),(4,5,6)])\n",
    "print(\"x+y:\",x + y)\n",
    "print()\n",
    "print(\"add:\",np.add(x,y))\n",
    "print()\n",
    "print(\"subtract:\",np.subtract(x,y))\n",
    "print()\n",
    "print(\"sum:\",np.sum(x))\n",
    "print()\n",
    "print(\"sum axis-0:\",np.sum(x, axis=0))\n",
    "print()\n",
    "print(\"sum axis-1:\",np.sum(x, axis=1))\n"
   ]
  }
 ],
 "metadata": {
  "kernelspec": {
   "display_name": "Python 3",
   "language": "python",
   "name": "python3"
  },
  "language_info": {
   "codemirror_mode": {
    "name": "ipython",
    "version": 3
   },
   "file_extension": ".py",
   "mimetype": "text/x-python",
   "name": "python",
   "nbconvert_exporter": "python",
   "pygments_lexer": "ipython3",
   "version": "3.11.2"
  },
  "orig_nbformat": 4,
  "vscode": {
   "interpreter": {
    "hash": "5c7b89af1651d0b8571dde13640ecdccf7d5a6204171d6ab33e7c296e100e08a"
   }
  }
 },
 "nbformat": 4,
 "nbformat_minor": 2
}
