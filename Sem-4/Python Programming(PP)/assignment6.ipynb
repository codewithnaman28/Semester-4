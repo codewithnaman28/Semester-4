{
 "cells": [
  {
   "attachments": {},
   "cell_type": "markdown",
   "metadata": {},
   "source": [
    "## The significance of __init__() method in Python class ##\n",
    "\n",
    "- The __init__() method is run as soon as an object os a class is instantiated (i.e. created).\n",
    "- The method is useful to do any initialization (i.e. passing initial values to your object) you want to do with your object.\n",
    "- The double underscores both at the beginning and at the end of the name."
   ]
  },
  {
   "cell_type": "code",
   "execution_count": 1,
   "metadata": {},
   "outputs": [
    {
     "name": "stdout",
     "output_type": "stream",
     "text": [
      "Hello, how are you?\n"
     ]
    }
   ],
   "source": [
    "class Person:\n",
    "    def say_hi(self):\n",
    "        print('Hello, how are you?')\n",
    "\n",
    "p = Person()\n",
    "p .say_hi()"
   ]
  },
  {
   "cell_type": "code",
   "execution_count": null,
   "metadata": {},
   "outputs": [],
   "source": [
    "class Person:\n",
    "    def __init__(self, name):\n",
    "        self.name = name\n",
    "        \n",
    "    def say_hi(self):\n",
    "        print(\"Hello, my name is\", self.name)\n",
    "    \n",
    "p = Person(\"Swaroop\")\n",
    "p.say_hi()\n",
    "# The previous 2 lines can also be written as \n",
    "# Person(\"Swaroop\").say_hi()"
   ]
  },
  {
   "cell_type": "code",
   "execution_count": null,
   "metadata": {},
   "outputs": [],
   "source": [
    "import sys\n",
    "\n",
    "class Employee:\n",
    "    def __init__(self, n, a, s):\n",
    "        self.name = n\n",
    "        self.age = a\n",
    "        self.salary = s\n",
    "    \n",
    "    def display_data(self):\n",
    "        print(\"Name: \", self.name)\n",
    "        print(\"Age: \", self.age)\n",
    "        print(\"Salary: \", self.salary)\n",
    "        \n",
    "e1 = Employee(\"Swaroop\", 25, 10000)\n",
    "e1.display_data()\n",
    "print()\n",
    "e2 = Employee(\"Rahul\", 26, 20000)\n",
    "e2.display_data()\n"
   ]
  },
  {
   "cell_type": "code",
   "execution_count": null,
   "metadata": {},
   "outputs": [],
   "source": [
    "import sys\n",
    "\n",
    "\n",
    "class Employee:\n",
    "    def setdata(self, n, a, s):\n",
    "        self.name = n\n",
    "        self.age = a\n",
    "        self.salary = s\n",
    "\n",
    "    def display_data(self):\n",
    "        print(\"Name: \", self.name)\n",
    "        print(\"Age: \", self.age)\n",
    "        print(\"Salary: \", self.salary)\n",
    "\n",
    "\n",
    "e1 = Employee()\n",
    "e1.setdata(\"Swaroop\", 25, 10000)\n",
    "e1.display_data()\n",
    "print()\n",
    "e2 = Employee()\n",
    "e2.setdata(\"Rahul\", 26, 20000)\n",
    "e2.display_data()\n"
   ]
  },
  {
   "attachments": {},
   "cell_type": "markdown",
   "metadata": {},
   "source": [
    "# Assignment 6 #\n",
    "Write a program to read 3 subject marks and display pass or failed using class and object."
   ]
  },
  {
   "cell_type": "code",
   "execution_count": 22,
   "metadata": {},
   "outputs": [
    {
     "name": "stdout",
     "output_type": "stream",
     "text": [
      "Marks for the first subject:  67.0\n",
      "Marks for the second subject:  89.0\n",
      "Marks for the third subject:  56.0\n",
      "\n",
      "Total marks:  212.0\n",
      "Average marks:  70.66666666666667\n",
      "\n",
      "You have passed!\n"
     ]
    }
   ],
   "source": [
    "# Class definition\n",
    "class SubjectMarks:\n",
    "  def __init__(self, sub1_marks, sub2_marks, sub3_marks):\n",
    "    self.sub1_marks = sub1_marks\n",
    "    self.sub2_marks = sub2_marks\n",
    "    self.sub3_marks = sub3_marks\n",
    "\n",
    "  # Getter methods\n",
    "  def Sub1Marks(self):\n",
    "    return self.sub1_marks\n",
    "  def Sub2Marks(self):\n",
    "    return self.sub2_marks\n",
    "  def Sub3Marks(self):\n",
    "    return self.sub3_marks    \n",
    "  \n",
    "  # Total Marks\n",
    "  def totalMarks(self):\n",
    "    return(self.sub1_marks + self.sub2_marks + self.sub3_marks)\n",
    "  # Average Marks  \n",
    "  def Average(self):\n",
    "    return (self.sub1_marks + self.sub2_marks + self.sub3_marks) / 3\n",
    "    \n",
    "# Main Program\n",
    "sub1 = float(input(\"Please enter the mark for the first subject: \"))\n",
    "sub2 = float(input(\"Please enter the mark for the second subject: \"))\n",
    "sub3 = float(input(\"Please enter the mark for the third subject: \"))\n",
    "\n",
    "# Define student object\n",
    "student1 = SubjectMarks(sub1, sub2, sub3)\n",
    "\n",
    "# Calculate average\n",
    "Average = student1.Average()\n",
    "\n",
    "#Printing the data collected\n",
    "print(\"Marks for the first subject: \", student1.Sub1Marks())\n",
    "print(\"Marks for the second subject: \", student1.Sub2Marks())\n",
    "print(\"Marks for the third subject: \", student1.Sub3Marks())\n",
    "print()\n",
    "print(\"Total marks: \", student1.totalMarks())\n",
    "print(\"Average marks: \", Average)\n",
    "print()\n",
    "\n",
    "# Check if student pass or failed\n",
    "if Average >=  50:\n",
    "  print(\"You have passed!\")\n",
    "else:\n",
    "  print(\"Unfortunately, you have failed.\")\n"
   ]
  }
 ],
 "metadata": {
  "kernelspec": {
   "display_name": "Python 3",
   "language": "python",
   "name": "python3"
  },
  "language_info": {
   "codemirror_mode": {
    "name": "ipython",
    "version": 3
   },
   "file_extension": ".py",
   "mimetype": "text/x-python",
   "name": "python",
   "nbconvert_exporter": "python",
   "pygments_lexer": "ipython3",
   "version": "3.11.3"
  },
  "orig_nbformat": 4,
  "vscode": {
   "interpreter": {
    "hash": "b0fa6594d8f4cbf19f97940f81e996739fb7646882a419484c72d19e05852a7e"
   }
  }
 },
 "nbformat": 4,
 "nbformat_minor": 2
}
