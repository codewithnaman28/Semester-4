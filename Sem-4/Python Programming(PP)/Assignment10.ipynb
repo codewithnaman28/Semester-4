{
 "cells": [
  {
   "attachments": {},
   "cell_type": "markdown",
   "metadata": {},
   "source": [
    "# Assignment 10 # \n",
    "\n",
    "Write a python program to implement multithreading scenarios.\n",
    "\n",
    "- Create two threads \n",
    "- "
   ]
  },
  {
   "attachments": {},
   "cell_type": "markdown",
   "metadata": {},
   "source": [
    "Write a program tahat launcher 3 threads, assigns new names to two of them. Suspen each for 1 second and then resume them. Wait for them to terminate."
   ]
  },
  {
   "cell_type": "code",
   "execution_count": 1,
   "metadata": {},
   "outputs": [
    {
     "ename": "NameError",
     "evalue": "name 'func1' is not defined",
     "output_type": "error",
     "traceback": [
      "\u001b[0;31m---------------------------------------------------------------------------\u001b[0m",
      "\u001b[0;31mNameError\u001b[0m                                 Traceback (most recent call last)",
      "Cell \u001b[0;32mIn[1], line 5\u001b[0m\n\u001b[1;32m      1\u001b[0m \u001b[39mimport\u001b[39;00m \u001b[39mtime\u001b[39;00m\n\u001b[1;32m      2\u001b[0m \u001b[39mimport\u001b[39;00m \u001b[39mthreading\u001b[39;00m \n\u001b[0;32m----> 5\u001b[0m t1 \u001b[39m=\u001b[39m threading\u001b[39m.\u001b[39mThread(target\u001b[39m=\u001b[39mfunc1)     \u001b[39m# use default name\u001b[39;00m\n\u001b[1;32m      6\u001b[0m t2 \u001b[39m=\u001b[39m threading\u001b[39m.\u001b[39mThread(name \u001b[39m=\u001b[39m \u001b[39m\"\u001b[39m\u001b[39mMy second thread\u001b[39m\u001b[39m\"\u001b[39m, )\n",
      "\u001b[0;31mNameError\u001b[0m: name 'func1' is not defined"
     ]
    }
   ],
   "source": [
    "import time\n",
    "import threading \n",
    "\n",
    "\n",
    "t1 = threading.Thread(target=func1)     # use default name\n",
    "t2 = threading.Thread(name = \"My second thread\", )"
   ]
  },
  {
   "cell_type": "code",
   "execution_count": null,
   "metadata": {},
   "outputs": [],
   "source": [
    "import time \n",
    "import threading\n",
    "\n",
    "def cal_sqre(num): # define the cal_sqre function \n",
    "    print(\"Calculate the square root of the given number \")\n",
    "    for n in num: \n",
    "        time.sleep(0.2)\n",
    "        print(\"Square root of the number is : \", n*n)\n",
    "\n",
    "def cal_cube(num): # define the cal_cube function \n",
    "    print(\"Calculate the cube root of the given number \")\n",
    "    for n in num: \n",
    "        time.sleep(0.2)\n",
    "        print(\"Cube root of the number is : \", n*n*n)\n",
    "\n"
   ]
  }
 ],
 "metadata": {
  "kernelspec": {
   "display_name": "Python 3",
   "language": "python",
   "name": "python3"
  },
  "language_info": {
   "codemirror_mode": {
    "name": "ipython",
    "version": 3
   },
   "file_extension": ".py",
   "mimetype": "text/x-python",
   "name": "python",
   "nbconvert_exporter": "python",
   "pygments_lexer": "ipython3",
   "version": "3.11.2"
  },
  "orig_nbformat": 4
 },
 "nbformat": 4,
 "nbformat_minor": 2
}
