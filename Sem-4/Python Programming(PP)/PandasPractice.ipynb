{
 "cells": [
  {
   "attachments": {},
   "cell_type": "markdown",
   "metadata": {},
   "source": [
    "# Pandas Practice #\n",
    "\n",
    "- Pandas is a python's library for data analysis. \n",
    "- Pandas is an open source library that allows you to data manipulation in python.\n",
    "\n",
    "## Three main data structures of Pandas ##\n",
    "\n",
    "- Series: 1 dimensional, homogeneous data, size immutable, values of data are mutable\n",
    "- Data frame: 2 dimensional, heterogeneous data, size mutable, data mutable\n",
    "- Panel"
   ]
  },
  {
   "cell_type": "code",
   "execution_count": 4,
   "metadata": {},
   "outputs": [
    {
     "name": "stdout",
     "output_type": "stream",
     "text": [
      "Series([], dtype: object)\n"
     ]
    }
   ],
   "source": [
    "import pandas as pd\n",
    "\n",
    "s = pd.Series()\n",
    "print(s)"
   ]
  }
 ],
 "metadata": {
  "kernelspec": {
   "display_name": "Python 3",
   "language": "python",
   "name": "python3"
  },
  "language_info": {
   "codemirror_mode": {
    "name": "ipython",
    "version": 3
   },
   "file_extension": ".py",
   "mimetype": "text/x-python",
   "name": "python",
   "nbconvert_exporter": "python",
   "pygments_lexer": "ipython3",
   "version": "3.11.2"
  },
  "orig_nbformat": 4
 },
 "nbformat": 4,
 "nbformat_minor": 2
}
