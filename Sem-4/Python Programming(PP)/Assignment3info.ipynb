{
 "cells": [
  {
   "cell_type": "code",
   "execution_count": 1,
   "metadata": {},
   "outputs": [
    {
     "name": "stdout",
     "output_type": "stream",
     "text": [
      "Factorial of 4 is:  24\n"
     ]
    }
   ],
   "source": [
    "def factorial(num):\n",
    "    ''' This function calls itself to find the factorial of a number'''\n",
    "    if num == 1:\n",
    "        return 1\n",
    "    else:\n",
    "        return (num * factorial(num-1))\n",
    "    \n",
    "num = 4\n",
    "print(\"Factorial of\", num, \"is: \", factorial(num))"
   ]
  },
  {
   "attachments": {},
   "cell_type": "markdown",
   "metadata": {},
   "source": [
    "## User Defined Function ##"
   ]
  },
  {
   "cell_type": "code",
   "execution_count": 11,
   "metadata": {},
   "outputs": [
    {
     "name": "stdout",
     "output_type": "stream",
     "text": [
      "First argumetns is : 1\n",
      "Second arguuments is : 2\n",
      "Third arguments is : 3\n"
     ]
    },
    {
     "data": {
      "text/plain": [
       "5"
      ]
     },
     "execution_count": 11,
     "metadata": {},
     "output_type": "execute_result"
    }
   ],
   "source": [
    "def try1(x, y, z):\n",
    "    print(\"First argumetns is :\", x)\n",
    "    print(\"Second arguuments is :\", y)\n",
    "    print(\"Third arguments is :\", z)\n",
    "    return x * y + z\n",
    "\n",
    "\n",
    "try1(x=1, y=2, z=3)\n"
   ]
  },
  {
   "attachments": {},
   "cell_type": "markdown",
   "metadata": {},
   "source": [
    "# Types of Arguments #\n",
    "\n",
    "There are two types of argument used when calling a funcion.\n",
    "\n",
    "    - "
   ]
  }
 ],
 "metadata": {
  "kernelspec": {
   "display_name": "Python 3",
   "language": "python",
   "name": "python3"
  },
  "language_info": {
   "codemirror_mode": {
    "name": "ipython",
    "version": 3
   },
   "file_extension": ".py",
   "mimetype": "text/x-python",
   "name": "python",
   "nbconvert_exporter": "python",
   "pygments_lexer": "ipython3",
   "version": "3.9.6"
  },
  "orig_nbformat": 4,
  "vscode": {
   "interpreter": {
    "hash": "5c7b89af1651d0b8571dde13640ecdccf7d5a6204171d6ab33e7c296e100e08a"
   }
  }
 },
 "nbformat": 4,
 "nbformat_minor": 2
}
