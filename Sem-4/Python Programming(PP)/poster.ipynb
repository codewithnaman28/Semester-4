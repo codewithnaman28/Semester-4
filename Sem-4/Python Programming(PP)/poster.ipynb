{
 "cells": [
  {
   "attachments": {},
   "cell_type": "markdown",
   "metadata": {},
   "source": [
    "# User Defined Function #"
   ]
  },
  {
   "cell_type": "code",
   "execution_count": 2,
   "metadata": {},
   "outputs": [
    {
     "name": "stdout",
     "output_type": "stream",
     "text": [
      "The sum of 5 and 10 is 15\n"
     ]
    }
   ],
   "source": [
    "x = 5\n",
    "y = 10\n",
    "sum = (x + y)\n",
    "print(\"The sum of\", x, \"and\", y, \"is\", sum)\n"
   ]
  },
  {
   "attachments": {},
   "cell_type": "markdown",
   "metadata": {},
   "source": [
    "# Built-In Function #"
   ]
  },
  {
   "cell_type": "code",
   "execution_count": 3,
   "metadata": {},
   "outputs": [
    {
     "name": "stdout",
     "output_type": "stream",
     "text": [
      "<class 'int'>\n",
      "<class 'str'>\n",
      "<class 'list'>\n"
     ]
    }
   ],
   "source": [
    "my_int = 5\n",
    "my_str = \"Hello, World!\"\n",
    "my_list = [1, 2, 3]\n",
    "\n",
    "print(type(my_int)) # Output: <class 'int'>\n",
    "print(type(my_str)) # Output: <class 'str'>\n",
    "print(type(my_list)) # Output: <class 'list'>\n"
   ]
  },
  {
   "attachments": {},
   "cell_type": "markdown",
   "metadata": {},
   "source": [
    " # Exception Handling # "
   ]
  },
  {
   "cell_type": "code",
   "execution_count": 1,
   "metadata": {},
   "outputs": [
    {
     "name": "stdout",
     "output_type": "stream",
     "text": [
      "The result is: 0.35294117647058826\n",
      "Thank you for using this program.\n"
     ]
    }
   ],
   "source": [
    "try:\n",
    "    # Code that might raise an exception\n",
    "    x = int(input(\"Enter a number: \"))\n",
    "    y = int(input(\"Enter another number: \"))\n",
    "    result = x / y\n",
    "    print(\"The result is:\", result)\n",
    "except ZeroDivisionError:\n",
    "    # Code to handle the ZeroDivisionError exception\n",
    "    print(\"Error: You cannot divide by zero.\")\n",
    "except ValueError:\n",
    "    # Code to handle the ValueError exception\n",
    "    print(\"Error: Please enter valid numbers.\")\n",
    "except Exception as e:\n",
    "    # Code to handle any other exceptions\n",
    "    print(\"Error:\", e)\n",
    "finally:\n",
    "    # Code that will always run, regardless of whether an exception was raised\n",
    "    print(\"Thank you for using this program.\")\n"
   ]
  }
 ],
 "metadata": {
  "kernelspec": {
   "display_name": "django",
   "language": "python",
   "name": "python3"
  },
  "language_info": {
   "codemirror_mode": {
    "name": "ipython",
    "version": 3
   },
   "file_extension": ".py",
   "mimetype": "text/x-python",
   "name": "python",
   "nbconvert_exporter": "python",
   "pygments_lexer": "ipython3",
   "version": "3.11.2"
  },
  "orig_nbformat": 4
 },
 "nbformat": 4,
 "nbformat_minor": 2
}
