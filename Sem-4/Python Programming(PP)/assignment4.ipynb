{
 "cells": [
  {
   "attachments": {},
   "cell_type": "markdown",
   "metadata": {},
   "source": [
    "# Exercise 1 #\n",
    "Created a list containg 9 members\n",
    "\n",
    "- Accessing the first three elements from list_1 using forward indices: list_1[0:3]\n",
    "- Accessing the last element from list_1 using the len function: list_1[len(list_1) - 1]\n",
    "- Accessing the last two elements from list_1 by slicing: list_1[-2:]\n",
    "- Accessing the first two elements using backward indices list_1[:-2]\n",
    "- Reversing the elements in the string: list_1[::-1] "
   ]
  },
  {
   "cell_type": "code",
   "execution_count": 4,
   "metadata": {},
   "outputs": [
    {
     "name": "stdout",
     "output_type": "stream",
     "text": [
      "[1, 2, 3]\n",
      "9\n",
      "[8, 9]\n",
      "[1, 2, 3, 4, 5, 6, 7]\n",
      "[9, 8, 7, 6, 5, 4, 3, 2, 1]\n"
     ]
    }
   ],
   "source": [
    "import sys\n",
    "\n",
    "my_list = {1,2,3,4,5,6,7,8,9}\n",
    "list_1 = list(my_list)\n",
    "\n",
    "# Access the first three elements from list_1 using forward indices\n",
    "print(list_1[0:3])  # Output: [1, 2, 3]\n",
    "\n",
    "# Access the last element from list_1 using the len function\n",
    "print(list_1[len(list_1) - 1])  # Output: 4\n",
    "\n",
    "# Access the last two elements from list_1 by slicing\n",
    "print(list_1[-2:])  # Output: [3, 4]\n",
    "\n",
    "# Access the first two elements using backward indices\n",
    "print(list_1[:-2])  # Output: [1, 2]\n",
    "\n",
    "# Reverse the elements in the list\n",
    "print(list_1[::-1])  # Output: [4, 3, 2, 1]\n"
   ]
  },
  {
   "attachments": {},
   "cell_type": "markdown",
   "metadata": {},
   "source": [
    "## Exercise 2 ##\n",
    "Accept 20 values from user and save it in list. Perform following operations on it\n",
    "- count similar elements of list.\n",
    "- count even and odd values of list .\n",
    "- count positive and negative values of list."
   ]
  },
  {
   "cell_type": "code",
   "execution_count": 5,
   "metadata": {},
   "outputs": [
    {
     "name": "stdout",
     "output_type": "stream",
     "text": [
      "34 appears 3 times in the list\n",
      "2 appears 2 times in the list\n",
      "3 appears 4 times in the list\n",
      "4 appears 2 times in the list\n",
      "5 appears 4 times in the list\n",
      "6 appears 1 times in the list\n",
      "45 appears 1 times in the list\n",
      "54 appears 2 times in the list\n",
      "667 appears 1 times in the list\n",
      "The list contains 10 even values and 10 odd values\n",
      "The list contains 20 positive values and 0 negative values\n"
     ]
    }
   ],
   "source": [
    "# Accept 20 values from the user and save it in a list\n",
    "my_list = []\n",
    "for i in range(20):\n",
    "    value = int(input(f\"Enter value {i+1}: \"))\n",
    "    my_list.append(value)\n",
    "\n",
    "# Count similar elements of the list\n",
    "unique_values = set(my_list)\n",
    "for value in unique_values:\n",
    "    count = my_list.count(value)\n",
    "    print(f\"{value} appears {count} times in the list\")\n",
    "\n",
    "# Count even and odd values of the list\n",
    "even_count = 0\n",
    "odd_count = 0\n",
    "for value in my_list:\n",
    "    if value % 2 == 0:\n",
    "        even_count += 1\n",
    "    else:\n",
    "        odd_count += 1\n",
    "print(f\"The list contains {even_count} even values and {odd_count} odd values\")\n",
    "\n",
    "# Count positive and negative values of the list\n",
    "positive_count = 0\n",
    "negative_count = 0\n",
    "for value in my_list:\n",
    "    if value > 0:\n",
    "        positive_count += 1\n",
    "    elif value < 0:\n",
    "        negative_count += 1\n",
    "print(\n",
    "    f\"The list contains {positive_count} positive values and {negative_count} negative values\")\n"
   ]
  },
  {
   "attachments": {},
   "cell_type": "markdown",
   "metadata": {},
   "source": [
    "## Exercise 3 ##\n",
    "Accept 10 values from user and save it in list. Perform following operations on it\n",
    "- Sort list in ascending order using sorted() function and display sorted list\n",
    "- sort list in descending order using sort() function\n",
    "- display length of list"
   ]
  },
  {
   "cell_type": "code",
   "execution_count": 7,
   "metadata": {},
   "outputs": [
    {
     "name": "stdout",
     "output_type": "stream",
     "text": [
      "The sorted list in ascending order is: [3, 4, 23, 34, 45, 45, 56, 67, 87, 87]\n",
      "The sorted list in descending order is: [87, 87, 67, 56, 45, 45, 34, 23, 4, 3]\n",
      "The length of the list is: 10\n"
     ]
    }
   ],
   "source": [
    "# Accept 10 values from the user and save them in a list\n",
    "my_list = []\n",
    "for i in range(10):\n",
    "    value = int(input(f\"Enter value {i+1}: \"))\n",
    "    my_list.append(value)\n",
    "\n",
    "# Sort the list in ascending order using the sorted() function and display the sorted list\n",
    "sorted_list = sorted(my_list)\n",
    "print(f\"The sorted list in ascending order is: {sorted_list}\")\n",
    "\n",
    "# Sort the list in descending order using the sort() function and display the sorted list\n",
    "my_list.sort(reverse=True)\n",
    "print(f\"The sorted list in descending order is: {my_list}\")\n",
    "\n",
    "# Display the length of the list\n",
    "print(f\"The length of the list is: {len(my_list)}\")\n"
   ]
  },
  {
   "attachments": {},
   "cell_type": "markdown",
   "metadata": {},
   "source": [
    "## Exercise 4 ##\n",
    "Accept two lists from user and merge them using + in a single list"
   ]
  },
  {
   "cell_type": "code",
   "execution_count": 10,
   "metadata": {},
   "outputs": [
    {
     "name": "stdout",
     "output_type": "stream",
     "text": [
      "List 1 = [23, 54, 34, 564, 34]\n",
      "List 2 = [56, 345, 56, 7, 78]\n",
      "The merged list is: [23, 54, 34, 564, 34, 56, 345, 56, 7, 78]\n"
     ]
    }
   ],
   "source": [
    "# Accept two lists from the user\n",
    "list_1 = []\n",
    "list_2 = []\n",
    "\n",
    "for i in range(5):\n",
    "    value = int(input(f\"Enter value {i+1} for list 1: \"))\n",
    "    list_1.append(value)\n",
    "\n",
    "for i in range(5):\n",
    "    value = int(input(f\"Enter value {i+1} for list 2: \"))\n",
    "    list_2.append(value)\n",
    "    \n",
    "# printing the two diffrent lists \n",
    "print(\"List 1 =\",list_1)\n",
    "print(\"List 2 =\",list_2)\n",
    "\n",
    "# Merge the two lists using the + operator\n",
    "merged_list = list_1 + list_2\n",
    "\n",
    "# Display the merged list\n",
    "print(f\"The merged list is: {merged_list}\")"
   ]
  }
 ],
 "metadata": {
  "kernelspec": {
   "display_name": "Python 3",
   "language": "python",
   "name": "python3"
  },
  "language_info": {
   "codemirror_mode": {
    "name": "ipython",
    "version": 3
   },
   "file_extension": ".py",
   "mimetype": "text/x-python",
   "name": "python",
   "nbconvert_exporter": "python",
   "pygments_lexer": "ipython3",
   "version": "3.11.2"
  },
  "orig_nbformat": 4,
  "vscode": {
   "interpreter": {
    "hash": "5c7b89af1651d0b8571dde13640ecdccf7d5a6204171d6ab33e7c296e100e08a"
   }
  }
 },
 "nbformat": 4,
 "nbformat_minor": 2
}
