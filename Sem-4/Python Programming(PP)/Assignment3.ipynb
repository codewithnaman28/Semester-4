{
 "cells": [
  {
   "attachments": {},
   "cell_type": "markdown",
   "metadata": {},
   "source": [
    "# Assignment 3 #\n",
    "Creating a triangle"
   ]
  },
  {
   "cell_type": "code",
   "execution_count": 26,
   "metadata": {},
   "outputs": [
    {
     "name": "stdout",
     "output_type": "stream",
     "text": [
      "The sides of the triangle are: 5 4 3\n",
      "The triangle is a right angled triangle with a as it's hypotenuse\n"
     ]
    }
   ],
   "source": [
    "import math\n",
    "\n",
    "def Try1(a,b,c):\n",
    "    if (math.pow(a,2) == math.pow(b, 2) + math.pow(c, 2)):\n",
    "        print(\"The triangle is a right angled triangle with a as it's hypotenuse\")\n",
    "    elif (math.pow(b, 2) == math.pow(a, 2) + math.pow(c, 2)):\n",
    "        print(\"The triangle is a right angled triangle with b as it's hypotenuse\")\n",
    "    elif (math.pow(c, 2) == math.pow(b, 2) + math.pow(a, 2)):\n",
    "        print(\"The triangle is a right triangled triangle with c as it's hypotenuse\")\n",
    "    else: \n",
    "        print(\"The triangle is not a right angled triangle\")\n",
    "\n",
    "\n",
    "a = int(input(\"Enter the first side of the triangle:\"))\n",
    "b = int(input(\"Enter the second side of the triangle:\"))\n",
    "c = int(input(\"Enter the third side of the triangle:\"))\n",
    "print(\"The sides of the triangle are:\", a, b, c)\n",
    "Try1(a,b,c)\n",
    "\n"
   ]
  },
  {
   "cell_type": "code",
   "execution_count": 2,
   "metadata": {},
   "outputs": [
    {
     "name": "stdout",
     "output_type": "stream",
     "text": [
      "0.1\n",
      "0.2\n",
      "Error: <class 'ValueError'>\n",
      "0.25\n",
      "Error: <class 'ZeroDivisionError'>\n"
     ]
    }
   ],
   "source": [
    "import sys\n",
    "import math\n",
    "\n",
    "l1 = [10, 5.3, 'x', 4, 0]\n",
    "for i in l1:\n",
    "    try: \n",
    "        res = 1/int(i)\n",
    "        print(res)\n",
    "    except:\n",
    "        print(\"Error:\", sys.exc_info()[0])"
   ]
  }
 ],
 "metadata": {
  "kernelspec": {
   "display_name": "Python 3",
   "language": "python",
   "name": "python3"
  },
  "language_info": {
   "codemirror_mode": {
    "name": "ipython",
    "version": 3
   },
   "file_extension": ".py",
   "mimetype": "text/x-python",
   "name": "python",
   "nbconvert_exporter": "python",
   "pygments_lexer": "ipython3",
   "version": "3.11.2"
  },
  "orig_nbformat": 4,
  "vscode": {
   "interpreter": {
    "hash": "5c7b89af1651d0b8571dde13640ecdccf7d5a6204171d6ab33e7c296e100e08a"
   }
  }
 },
 "nbformat": 4,
 "nbformat_minor": 2
}
