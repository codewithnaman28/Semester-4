{
 "cells": [
  {
   "attachments": {},
   "cell_type": "markdown",
   "metadata": {},
   "source": [
    "# Assignment 4 # \n",
    "    Name: Naman Soni \n",
    "    Roll No: 10\n",
    "    Branch: CSF\n",
    "    PRN: 1032210715\n",
    "\n",
    "## Exercises to be performed ##\n",
    "\n",
    "1. Define a list called list_1 with four integer members, and find the output of the following\n",
    "    a. Access the first three elements from list_1 using forward indices: list_1[0:3]\n",
    "    b. Access the last element from list_1 using the len function: list_1[len(list_1) - 1]\n",
    "    c. Access the last two elements from list_1 by slicing: list_1[-2:]\n",
    "    d. Access the first two elements using backward indices list_1[:-2]\n",
    "    e. Reverse the elements in the string: list_1[::-1]\n",
    "\n",
    "2. Accept 20 values from user and save it in list. Perform following operations on it\n",
    "    a count similar elements of list.\n",
    "    b count even and odd values of list .\n",
    "    c count positive and negative values of list.\n",
    "\n",
    "3. Accept 10 values from user and save it in list. Perform following operations on it\n",
    "    a Sort list in ascending order using sorted() function and display sorted list\n",
    "    b sort list in descending order using sort() function\n",
    "    c display length of list\n",
    "\n",
    "4. Accept two lists from user and merge them using + in a single list"
   ]
  },
  {
   "cell_type": "code",
   "execution_count": null,
   "metadata": {},
   "outputs": [],
   "source": []
  }
 ],
 "metadata": {
  "language_info": {
   "name": "python"
  },
  "orig_nbformat": 4
 },
 "nbformat": 4,
 "nbformat_minor": 2
}
