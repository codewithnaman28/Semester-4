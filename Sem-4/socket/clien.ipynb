{
 "cells": [
  {
   "cell_type": "code",
   "execution_count": 18,
   "metadata": {},
   "outputs": [
    {
     "name": "stdout",
     "output_type": "stream",
     "text": [
      "Received b'https://www.thepythoncode.com/code/make-a-chat-room-application-in-python'\n"
     ]
    }
   ],
   "source": [
    "# echo-client.py\n",
    "\n",
    "import socket\n",
    "\n",
    "HOST = \"172.16.229.41\"  # The server's hostname or IP address\n",
    "PORT = 65433  # The port used by the server\n",
    "\n",
    "with socket.socket(socket.AF_INET, socket.SOCK_STREAM) as s:\n",
    "    s.connect((HOST, PORT))\n",
    "    s.sendall(b\"Hello, world\")\n",
    "    data = s.recv(1024)\n",
    "\n",
    "print(f\"Received {data!r}\")\n"
   ]
  },
  {
   "cell_type": "code",
   "execution_count": 1,
   "metadata": {},
   "outputs": [
    {
     "name": "stdout",
     "output_type": "stream",
     "text": [
      "[*] Connecting to 172.16.229.41:65433...\n",
      "[+] Connected.\n"
     ]
    }
   ],
   "source": [
    "import socket\n",
    "import random\n",
    "from threading import Thread\n",
    "from datetime import datetime\n",
    "from colorama import Fore, init, Back\n",
    "\n",
    "# init colors\n",
    "init()\n",
    "\n",
    "# set the available colors\n",
    "colors = [Fore.BLUE, Fore.CYAN, Fore.GREEN, Fore.LIGHTBLACK_EX,\n",
    "          Fore.LIGHTBLUE_EX, Fore.LIGHTCYAN_EX, Fore.LIGHTGREEN_EX,\n",
    "          Fore.LIGHTMAGENTA_EX, Fore.LIGHTRED_EX, Fore.LIGHTWHITE_EX,\n",
    "          Fore.LIGHTYELLOW_EX, Fore.MAGENTA, Fore.RED, Fore.WHITE, Fore.YELLOW\n",
    "          ]\n",
    "\n",
    "# choose a random color for the client\n",
    "client_color = random.choice(colors)\n",
    "\n",
    "# server's IP address\n",
    "# if the server is not on this machine,\n",
    "# put the private (network) IP address (e.g 192.168.1.2)\n",
    "SERVER_HOST = \"172.16.229.41\"\n",
    "SERVER_PORT = 65433  # server's port\n",
    "separator_token = \"<SEP>\"  # we will use this to separate the client name & message\n",
    "\n",
    "# initialize TCP socket\n",
    "s = socket.socket()\n",
    "print(f\"[*] Connecting to {SERVER_HOST}:{SERVER_PORT}...\")\n",
    "# connect to the server\n",
    "s.connect((SERVER_HOST, SERVER_PORT))\n",
    "print(\"[+] Connected.\")\n",
    "# prompt the client for a name\n",
    "name = input(\"Enter your name: \")\n",
    "\n",
    "\n",
    "def listen_for_messages():\n",
    "    while True:\n",
    "        message = s.recv(1024).decode()\n",
    "        print(\"\\n\" + message)\n",
    "\n",
    "\n",
    "# make a thread that listens for messages to this client & print them\n",
    "t = Thread(target=listen_for_messages)\n",
    "# make the thread daemon so it ends whenever the main thread ends\n",
    "t.daemon = True\n",
    "# start the thread\n",
    "t.start()\n",
    "\n",
    "while True:\n",
    "    # input message we want to send to the server\n",
    "    to_send = input()\n",
    "    # a way to exit the program\n",
    "    if to_send.lower() == 'q':\n",
    "        break\n",
    "    # add the datetime, name & the color of the sender\n",
    "    date_now = datetime.now().strftime('%Y-%m-%d %H:%M:%S')\n",
    "    to_send = f\"{client_color}[{date_now}] {name}{separator_token}{to_send}{Fore.RESET}\"\n",
    "    # finally, send the message\n",
    "    s.send(to_send.encode())\n",
    "\n",
    "# close the socket\n",
    "s.close()\n"
   ]
  },
  {
   "cell_type": "code",
   "execution_count": 43,
   "metadata": {},
   "outputs": [
    {
     "name": "stdout",
     "output_type": "stream",
     "text": [
      "[*] Listening as 172.16.223.1:65432\n"
     ]
    },
    {
     "ename": "KeyboardInterrupt",
     "evalue": "",
     "output_type": "error",
     "traceback": [
      "\u001b[0;31m---------------------------------------------------------------------------\u001b[0m",
      "\u001b[0;31mKeyboardInterrupt\u001b[0m                         Traceback (most recent call last)",
      "Cell \u001b[0;32mIn[43], line 48\u001b[0m\n\u001b[1;32m     43\u001b[0m             client_socket\u001b[39m.\u001b[39msend(msg\u001b[39m.\u001b[39mencode())\n\u001b[1;32m     46\u001b[0m \u001b[39mwhile\u001b[39;00m \u001b[39mTrue\u001b[39;00m:\n\u001b[1;32m     47\u001b[0m     \u001b[39m# we keep listening for new connections all the time\u001b[39;00m\n\u001b[0;32m---> 48\u001b[0m     client_socket, client_address \u001b[39m=\u001b[39m s\u001b[39m.\u001b[39;49maccept()\n\u001b[1;32m     49\u001b[0m     \u001b[39mprint\u001b[39m(\u001b[39mf\u001b[39m\u001b[39m\"\u001b[39m\u001b[39m[+] \u001b[39m\u001b[39m{\u001b[39;00mclient_address\u001b[39m}\u001b[39;00m\u001b[39m connected.\u001b[39m\u001b[39m\"\u001b[39m)\n\u001b[1;32m     50\u001b[0m     \u001b[39m# add the new connected client to connected sockets\u001b[39;00m\n",
      "File \u001b[0;32m/opt/homebrew/Cellar/python@3.11/3.11.1/Frameworks/Python.framework/Versions/3.11/lib/python3.11/socket.py:294\u001b[0m, in \u001b[0;36msocket.accept\u001b[0;34m(self)\u001b[0m\n\u001b[1;32m    287\u001b[0m \u001b[39mdef\u001b[39;00m \u001b[39maccept\u001b[39m(\u001b[39mself\u001b[39m):\n\u001b[1;32m    288\u001b[0m \u001b[39m    \u001b[39m\u001b[39m\"\"\"accept() -> (socket object, address info)\u001b[39;00m\n\u001b[1;32m    289\u001b[0m \n\u001b[1;32m    290\u001b[0m \u001b[39m    Wait for an incoming connection.  Return a new socket\u001b[39;00m\n\u001b[1;32m    291\u001b[0m \u001b[39m    representing the connection, and the address of the client.\u001b[39;00m\n\u001b[1;32m    292\u001b[0m \u001b[39m    For IP sockets, the address info is a pair (hostaddr, port).\u001b[39;00m\n\u001b[1;32m    293\u001b[0m \u001b[39m    \"\"\"\u001b[39;00m\n\u001b[0;32m--> 294\u001b[0m     fd, addr \u001b[39m=\u001b[39m \u001b[39mself\u001b[39;49m\u001b[39m.\u001b[39;49m_accept()\n\u001b[1;32m    295\u001b[0m     sock \u001b[39m=\u001b[39m socket(\u001b[39mself\u001b[39m\u001b[39m.\u001b[39mfamily, \u001b[39mself\u001b[39m\u001b[39m.\u001b[39mtype, \u001b[39mself\u001b[39m\u001b[39m.\u001b[39mproto, fileno\u001b[39m=\u001b[39mfd)\n\u001b[1;32m    296\u001b[0m     \u001b[39m# Issue #7995: if no default timeout is set and the listening\u001b[39;00m\n\u001b[1;32m    297\u001b[0m     \u001b[39m# socket had a (non-zero) timeout, force the new socket in blocking\u001b[39;00m\n\u001b[1;32m    298\u001b[0m     \u001b[39m# mode to override platform-specific socket flags inheritance.\u001b[39;00m\n",
      "\u001b[0;31mKeyboardInterrupt\u001b[0m: "
     ]
    }
   ],
   "source": [
    "import socket\n",
    "from threading import Thread\n",
    "\n",
    "# server's IP address\n",
    "SERVER_HOST = \"172.16.223.1\"\n",
    "SERVER_PORT = 65432   # port we want to use\n",
    "separator_token = \"<SEP>\"  # we will use this to separate the client name & message\n",
    "\n",
    "# initialize list/set of all connected client's sockets\n",
    "client_sockets = set()\n",
    "# create a TCP socket\n",
    "s = socket.socket()\n",
    "# make the port as reusable port\n",
    "s.setsockopt(socket.SOL_SOCKET, socket.SO_REUSEADDR, 1)\n",
    "# bind the socket to the address we specified\n",
    "s.bind((SERVER_HOST, SERVER_PORT))\n",
    "# listen for upcoming connections\n",
    "s.listen(5)\n",
    "print(f\"[*] Listening as {SERVER_HOST}:{SERVER_PORT}\")\n",
    "\n",
    "\n",
    "def listen_for_client(cs):\n",
    "    \"\"\"\n",
    "    This function keep listening for a message from `cs` socket\n",
    "    Whenever a message is received, broadcast it to all other connected clients\n",
    "    \"\"\"\n",
    "    while True:\n",
    "        try:\n",
    "            # keep listening for a message from `cs` socket\n",
    "            msg = cs.recv(1024).decode()\n",
    "        except Exception as e:\n",
    "            # client no longer connected\n",
    "            # remove it from the set\n",
    "            print(f\"[!] Error: {e}\")\n",
    "            client_sockets.remove(cs)\n",
    "        else:\n",
    "            # if we received a message, replace the <SEP>\n",
    "            # token with \": \" for nice printing\n",
    "            msg = msg.replace(separator_token, \": \")\n",
    "        # iterate over all connected sockets\n",
    "        for client_socket in client_sockets:\n",
    "            # and send the message\n",
    "            client_socket.send(msg.encode())\n",
    "\n",
    "\n",
    "while True:\n",
    "    # we keep listening for new connections all the time\n",
    "    client_socket, client_address = s.accept()\n",
    "    print(f\"[+] {client_address} connected.\")\n",
    "    # add the new connected client to connected sockets\n",
    "    client_sockets.add(client_socket)\n",
    "    # start a new thread that listens for each client's messages\n",
    "    t = Thread(target=listen_for_client, args=(client_socket,))\n",
    "    # make the thread daemon so it ends whenever the main thread ends\n",
    "    t.daemon = True\n",
    "    # start the thread\n",
    "    t.start()\n",
    "\n",
    "# close client sockets\n",
    "for cs in client_sockets:\n",
    "    cs.close()\n",
    "# close server socket\n",
    "s.close()\n"
   ]
  }
 ],
 "metadata": {
  "kernelspec": {
   "display_name": "Python 3",
   "language": "python",
   "name": "python3"
  },
  "language_info": {
   "codemirror_mode": {
    "name": "ipython",
    "version": 3
   },
   "file_extension": ".py",
   "mimetype": "text/x-python",
   "name": "python",
   "nbconvert_exporter": "python",
   "pygments_lexer": "ipython3",
   "version": "3.11.1"
  },
  "orig_nbformat": 4,
  "vscode": {
   "interpreter": {
    "hash": "5c7b89af1651d0b8571dde13640ecdccf7d5a6204171d6ab33e7c296e100e08a"
   }
  }
 },
 "nbformat": 4,
 "nbformat_minor": 2
}
